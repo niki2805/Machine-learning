{
  "nbformat": 4,
  "nbformat_minor": 0,
  "metadata": {
    "colab": {
      "provenance": [],
      "authorship_tag": "ABX9TyNv6c1oeA5ajfs/vVJUuzhs",
      "include_colab_link": true
    },
    "kernelspec": {
      "name": "python3",
      "display_name": "Python 3"
    },
    "language_info": {
      "name": "python"
    }
  },
  "cells": [
    {
      "cell_type": "markdown",
      "metadata": {
        "id": "view-in-github",
        "colab_type": "text"
      },
      "source": [
        "<a href=\"https://colab.research.google.com/github/niki2805/Machine-learning/blob/main/KNN_scratch.ipynb\" target=\"_parent\"><img src=\"https://colab.research.google.com/assets/colab-badge.svg\" alt=\"Open In Colab\"/></a>"
      ]
    },
    {
      "cell_type": "code",
      "execution_count": null,
      "metadata": {
        "colab": {
          "base_uri": "https://localhost:8080/"
        },
        "id": "3zuv3JKCKttx",
        "outputId": "4f392d44-c001-4ae3-93c6-9a0cee55d5bf"
      },
      "outputs": [
        {
          "output_type": "stream",
          "name": "stdout",
          "text": [
            "Requirement already satisfied: numpy in /usr/local/lib/python3.11/dist-packages (2.0.2)\n"
          ]
        }
      ],
      "source": [
        "!pip install numpy"
      ]
    },
    {
      "cell_type": "code",
      "source": [
        "dataset = [[2.7810836,2.550537003,0],\n",
        "\t[1.465489372,2.362125076,0],\n",
        "\t[3.396561688,4.400293529,0],\n",
        "\t[1.38807019,1.850220317,0],\n",
        "\t[3.06407232,3.005305973,0],\n",
        "\t[7.627531214,2.759262235,1],\n",
        "\t[5.332441248,2.088626775,1],\n",
        "\t[6.922596716,1.77106367,1],\n",
        "\t[8.675418651,-0.242068655,1],\n",
        "\t[7.673756466,3.508563011,1]]"
      ],
      "metadata": {
        "id": "VpkfCndyK03L"
      },
      "execution_count": null,
      "outputs": []
    },
    {
      "cell_type": "code",
      "source": [
        "dataset"
      ],
      "metadata": {
        "colab": {
          "base_uri": "https://localhost:8080/"
        },
        "id": "HrtrmGPvLE5f",
        "outputId": "089bd914-8a32-4ca2-d90d-d1d30834bd1a"
      },
      "execution_count": null,
      "outputs": [
        {
          "output_type": "execute_result",
          "data": {
            "text/plain": [
              "[[2.7810836, 2.550537003, 0],\n",
              " [1.465489372, 2.362125076, 0],\n",
              " [3.396561688, 4.400293529, 0],\n",
              " [1.38807019, 1.850220317, 0],\n",
              " [3.06407232, 3.005305973, 0],\n",
              " [7.627531214, 2.759262235, 1],\n",
              " [5.332441248, 2.088626775, 1],\n",
              " [6.922596716, 1.77106367, 1],\n",
              " [8.675418651, -0.242068655, 1],\n",
              " [7.673756466, 3.508563011, 1]]"
            ]
          },
          "metadata": {},
          "execution_count": 3
        }
      ]
    },
    {
      "cell_type": "code",
      "source": [
        "import numpy as np\n",
        "import pandas as pd\n",
        "df = pd.DataFrame(dataset, columns=[\"x1\", \"x2\", \"label\"])"
      ],
      "metadata": {
        "id": "rPbvqs0_V2mG"
      },
      "execution_count": null,
      "outputs": []
    },
    {
      "cell_type": "code",
      "source": [
        "def euc_distance(x,x1):\n",
        "  return np.sqrt(np.sum((x-x1)**2))"
      ],
      "metadata": {
        "id": "-qZN_OCeO81F"
      },
      "execution_count": null,
      "outputs": []
    },
    {
      "cell_type": "code",
      "source": [
        "data = df.values"
      ],
      "metadata": {
        "id": "BhpOetzdPF8l"
      },
      "execution_count": null,
      "outputs": []
    },
    {
      "cell_type": "code",
      "source": [
        "x_train = data[:,:-1]\n",
        "y_train = data[:,-1]"
      ],
      "metadata": {
        "id": "er-RlR9wVewl"
      },
      "execution_count": null,
      "outputs": []
    },
    {
      "cell_type": "code",
      "source": [
        "k=3"
      ],
      "metadata": {
        "id": "xFh6nPsIZrxm"
      },
      "execution_count": null,
      "outputs": []
    },
    {
      "cell_type": "code",
      "source": [
        "def predictions(x_test):\n",
        "  y_pred=[]\n",
        "  for x in x_test:\n",
        "    distances = [euc_distance(x,t) for t in x_train]\n",
        "    k_idx = np.argsort(distances)[:k]\n",
        "    k_nn_labels = [ y_train[i] for i in k_idx]\n",
        "    most_common = Counter(k_nn_labels).most_common(1)\n",
        "    y_pred.append(most_common[0][0])\n",
        "\n",
        "  return y_pred"
      ],
      "metadata": {
        "id": "OGJ90pYcXd60"
      },
      "execution_count": null,
      "outputs": []
    },
    {
      "cell_type": "code",
      "source": [
        "x_train[-1]"
      ],
      "metadata": {
        "colab": {
          "base_uri": "https://localhost:8080/"
        },
        "id": "njPyjQZYZlJq",
        "outputId": "d7ed6de6-503e-42b4-d47e-872c7f5a2efd"
      },
      "execution_count": null,
      "outputs": [
        {
          "output_type": "execute_result",
          "data": {
            "text/plain": [
              "array([7.67375647, 3.50856301])"
            ]
          },
          "metadata": {},
          "execution_count": 83
        }
      ]
    },
    {
      "cell_type": "code",
      "source": [
        "print(predictions(x_train[4:6]))"
      ],
      "metadata": {
        "colab": {
          "base_uri": "https://localhost:8080/"
        },
        "id": "BjcUq--TZGoU",
        "outputId": "8de1f4a7-2cfe-41fc-d49b-08c0ac4a2e9f"
      },
      "execution_count": null,
      "outputs": [
        {
          "output_type": "stream",
          "name": "stdout",
          "text": [
            "[np.float64(0.0), np.float64(1.0)]\n"
          ]
        }
      ]
    },
    {
      "cell_type": "code",
      "source": [
        "y_train[4:6]"
      ],
      "metadata": {
        "colab": {
          "base_uri": "https://localhost:8080/"
        },
        "id": "VPbRBwYQaICv",
        "outputId": "9c71f604-f352-435c-917b-9513ad2f6b7a"
      },
      "execution_count": null,
      "outputs": [
        {
          "output_type": "execute_result",
          "data": {
            "text/plain": [
              "array([0., 1.])"
            ]
          },
          "metadata": {},
          "execution_count": 92
        }
      ]
    },
    {
      "cell_type": "code",
      "source": [
        "from matplotlib.colors import ListedColormap\n",
        "from sklearn import datasets\n",
        "from sklearn.model_selection import train_test_split\n",
        "\n",
        "cmap = ListedColormap([\"#FF0000\", \"#00FF00\", \"#0000FF\"])\n",
        "\n",
        "\n",
        "iris = datasets.load_iris()\n",
        "X, y = iris.data, iris.target\n",
        "\n",
        "X_train, X_test, y_train, y_test = train_test_split(\n",
        "        X, y, test_size=0.2, random_state=1234\n",
        "    )"
      ],
      "metadata": {
        "id": "WsWrp1YRMSgL"
      },
      "execution_count": null,
      "outputs": []
    },
    {
      "cell_type": "code",
      "source": [
        "X_train.shape"
      ],
      "metadata": {
        "colab": {
          "base_uri": "https://localhost:8080/"
        },
        "id": "e-Q3jwwhMaQj",
        "outputId": "e20e904b-acd4-44e1-ec37-92ff70387c83"
      },
      "execution_count": null,
      "outputs": [
        {
          "output_type": "execute_result",
          "data": {
            "text/plain": [
              "(120, 4)"
            ]
          },
          "metadata": {},
          "execution_count": 11
        }
      ]
    },
    {
      "cell_type": "code",
      "source": [
        "X_sample = X_train[:10]\n",
        "y_sample = y_train[:10]\n",
        "\n",
        "X_test_sample = X_test[:5]\n",
        "y_test_sample = y_test[:5]"
      ],
      "metadata": {
        "id": "v7E_Six_Phpw"
      },
      "execution_count": null,
      "outputs": []
    },
    {
      "cell_type": "code",
      "source": [
        "X_sample"
      ],
      "metadata": {
        "colab": {
          "base_uri": "https://localhost:8080/"
        },
        "id": "TwfsVn73PoFv",
        "outputId": "3e131ba3-da29-4481-e0ac-4e93c1ee29be"
      },
      "execution_count": null,
      "outputs": [
        {
          "output_type": "execute_result",
          "data": {
            "text/plain": [
              "array([[5.1, 2.5, 3. , 1.1],\n",
              "       [6.2, 2.8, 4.8, 1.8],\n",
              "       [5. , 3.5, 1.3, 0.3],\n",
              "       [6.3, 2.8, 5.1, 1.5],\n",
              "       [6.7, 3. , 5. , 1.7],\n",
              "       [4.8, 3.4, 1.9, 0.2],\n",
              "       [4.4, 2.9, 1.4, 0.2],\n",
              "       [5.4, 3.4, 1.7, 0.2],\n",
              "       [4.6, 3.6, 1. , 0.2],\n",
              "       [5. , 2.3, 3.3, 1. ]])"
            ]
          },
          "metadata": {},
          "execution_count": 22
        }
      ]
    },
    {
      "cell_type": "code",
      "source": [
        "import numpy as np\n",
        "from collections import Counter\n",
        "\n",
        "class KNN:\n",
        "  def __init__(self,k=3):\n",
        "    self.k=k\n",
        "\n",
        "  def fit(self,X,y):\n",
        "    self.X_train= X\n",
        "    self.y_train = y\n",
        "\n",
        "\n",
        "  def predict(self,X_test):\n",
        "    y_pred = [self.get_predictions(x) for x in X_test]\n",
        "    return np.array(y_pred)\n",
        "\n",
        "  def get_predictions(self,x):\n",
        "    distances = [self.get_distance(x,x_train) for x_train in self.X_train]\n",
        "    k_idx = np.argsort(distances)[:self.k]\n",
        "    k_nn_labels = [ self.y_train[i] for i in k_idx]\n",
        "    most_common = Counter(k_nn_labels).most_common(1)\n",
        "\n",
        "    return most_common[0][0]\n",
        "\n",
        "\n",
        "\n",
        "  def get_distance(self,x,x_train):\n",
        "    return np.sqrt(np.sum((x-x_train)**2))\n"
      ],
      "metadata": {
        "id": "3ShfWBgnLGXv"
      },
      "execution_count": null,
      "outputs": []
    },
    {
      "cell_type": "code",
      "source": [
        "k=5\n",
        "clf = KNN(k=k)\n",
        "clf.fit(X_train,y_train)\n",
        "predictions = clf.predict(X_test)"
      ],
      "metadata": {
        "id": "iNdEXLomL3NI"
      },
      "execution_count": null,
      "outputs": []
    },
    {
      "cell_type": "code",
      "source": [
        "def get_accuracy(y_test,y_pred):\n",
        "  return np.sum(y_test==y_pred)/len(y_test)"
      ],
      "metadata": {
        "id": "lQ-Nvt0LUIjZ"
      },
      "execution_count": null,
      "outputs": []
    },
    {
      "cell_type": "code",
      "source": [
        "print(get_accuracy(y_test,predictions))"
      ],
      "metadata": {
        "colab": {
          "base_uri": "https://localhost:8080/"
        },
        "id": "tpGQVAnXUUW1",
        "outputId": "02538ba2-193e-4eba-9cc6-74bde72246a1"
      },
      "execution_count": null,
      "outputs": [
        {
          "output_type": "stream",
          "name": "stdout",
          "text": [
            "0.9666666666666667\n"
          ]
        }
      ]
    }
  ]
}